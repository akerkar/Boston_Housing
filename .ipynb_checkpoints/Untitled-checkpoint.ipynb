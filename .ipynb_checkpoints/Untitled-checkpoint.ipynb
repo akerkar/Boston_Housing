{
 "cells": [
  {
   "cell_type": "code",
   "execution_count": 10,
   "metadata": {},
   "outputs": [],
   "source": [
    "import numpy as np\n",
    "import pandas as pd\n",
    "\n",
    "import matplotlib.pyplot as plt\n",
    "import seaborn as sns\n",
    "\n",
    "import statsmodels.formula.api as smf\n",
    "\n",
    "from statsmodels.graphics.gofplots import qqplot\n",
    "from statsmodels.graphics.tsaplots import plot_acf\n",
    "\n",
    "from sklearn import linear_model as lm, model_selection as ms, preprocessing\n",
    "from sklearn.pipeline import Pipeline\n",
    "\n",
    "from sklearn import ensemble, model_selection as ms, tree\n",
    "\n",
    "from sklearn.model_selection import train_test_split"
   ]
  },
  {
   "cell_type": "code",
   "execution_count": 6,
   "metadata": {},
   "outputs": [],
   "source": [
    "Boston = pd.read_csv('datasets/train.csv')"
   ]
  },
  {
   "cell_type": "code",
   "execution_count": 69,
   "metadata": {},
   "outputs": [],
   "source": [
    "X = Boston.drop(columns=['medv', 'ID'])\n",
    "y = Boston['medv']"
   ]
  },
  {
   "cell_type": "code",
   "execution_count": 70,
   "metadata": {},
   "outputs": [],
   "source": [
    "X_train, X_test, y_train, y_test = train_test_split(X, y, test_size=0.2)"
   ]
  },
  {
   "cell_type": "code",
   "execution_count": 71,
   "metadata": {},
   "outputs": [],
   "source": [
    "model = lm.LinearRegression()"
   ]
  },
  {
   "cell_type": "code",
   "execution_count": 72,
   "metadata": {},
   "outputs": [
    {
     "data": {
      "text/plain": [
       "LinearRegression(copy_X=True, fit_intercept=True, n_jobs=None,\n",
       "         normalize=False)"
      ]
     },
     "execution_count": 72,
     "metadata": {},
     "output_type": "execute_result"
    }
   ],
   "source": [
    "model.fit(X_train, y_train)"
   ]
  },
  {
   "cell_type": "code",
   "execution_count": 73,
   "metadata": {},
   "outputs": [
    {
     "data": {
      "text/plain": [
       "array([27.09122013, 22.72624815, 19.47812946, 41.98073777, 20.20440595,\n",
       "       27.11211212, 13.89686579, 10.99446962, 23.78972413, 19.50071046,\n",
       "       22.51033358, 24.22490983, 33.33311934, 26.81369821, 31.66896121,\n",
       "       22.80293415, 15.99956826, 20.10037311, 36.47971812, 25.34439817,\n",
       "       20.8143324 , 23.28212846, 20.90526522, 17.63357727, 37.70774208,\n",
       "       23.87687407,  1.76661231, 13.80594229, 24.21528222, 28.89106839,\n",
       "       22.74387479, 29.72979756,  6.24458098, 10.25016401, 20.91884105,\n",
       "       17.88675502, 28.55082646, 14.19848606, 24.65401157, 35.35724622,\n",
       "       26.05047503,  8.78591086, 22.18479524, 15.58922643, 14.43819343,\n",
       "       23.57346461, 29.46439338, 23.83206832, 19.22138153, 13.65455114,\n",
       "       22.04291859, 19.95632897, 21.94706386, 13.96786157, 31.13038958,\n",
       "       19.62900596, 40.85736643, 22.92562916, 23.1807064 , 23.32263841,\n",
       "       17.52097536, 24.49530993, 20.5395353 , 15.16367295, 36.57852378,\n",
       "       13.10630553, 28.99475204])"
      ]
     },
     "execution_count": 73,
     "metadata": {},
     "output_type": "execute_result"
    }
   ],
   "source": [
    "model.predict(X_test)"
   ]
  },
  {
   "cell_type": "code",
   "execution_count": 74,
   "metadata": {},
   "outputs": [],
   "source": [
    "import sklearn.metrics"
   ]
  },
  {
   "cell_type": "code",
   "execution_count": 75,
   "metadata": {},
   "outputs": [
    {
     "data": {
      "text/plain": [
       "17.513553107264528"
      ]
     },
     "execution_count": 75,
     "metadata": {},
     "output_type": "execute_result"
    }
   ],
   "source": [
    "sklearn.metrics.mean_squared_error(y_test, model.predict(X_test))"
   ]
  },
  {
   "cell_type": "code",
   "execution_count": 76,
   "metadata": {},
   "outputs": [],
   "source": [
    "cv = ms.KFold(n_splits=5, shuffle=True, random_state=42)"
   ]
  },
  {
   "cell_type": "code",
   "execution_count": 77,
   "metadata": {},
   "outputs": [
    {
     "data": {
      "text/plain": [
       "29.26611058338679"
      ]
     },
     "execution_count": 77,
     "metadata": {},
     "output_type": "execute_result"
    }
   ],
   "source": [
    "mses = ms.cross_val_score(lm.LinearRegression(), X_train, y_train, scoring='neg_mean_squared_error', cv=cv)\n",
    "np.mean(-mses)"
   ]
  },
  {
   "cell_type": "code",
   "execution_count": 78,
   "metadata": {},
   "outputs": [
    {
     "data": {
      "text/plain": [
       "RandomForestRegressor(bootstrap=True, criterion='mse', max_depth=None,\n",
       "           max_features='auto', max_leaf_nodes=None,\n",
       "           min_impurity_decrease=0.0, min_impurity_split=None,\n",
       "           min_samples_leaf=1, min_samples_split=2,\n",
       "           min_weight_fraction_leaf=0.0, n_estimators=20, n_jobs=None,\n",
       "           oob_score=False, random_state=42, verbose=0, warm_start=False)"
      ]
     },
     "execution_count": 78,
     "metadata": {},
     "output_type": "execute_result"
    }
   ],
   "source": [
    "rf1 = ensemble.RandomForestRegressor(n_estimators=20, random_state=42)\n",
    "rf1.fit(X_train, y_train)"
   ]
  },
  {
   "cell_type": "code",
   "execution_count": 79,
   "metadata": {},
   "outputs": [
    {
     "name": "stdout",
     "output_type": "stream",
     "text": [
      "  2 trees: mean mses -2.9e+01\n",
      "  5 trees: mean mses -2.9e+01\n",
      " 10 trees: mean mses -2.9e+01\n",
      " 20 trees: mean mses -2.9e+01\n",
      " 50 trees: mean mses -2.9e+01\n",
      "100 trees: mean mses -2.9e+01\n"
     ]
    }
   ],
   "source": [
    "for n_trees in [2, 5, 10, 20, 50, 100]:\n",
    "    estimator = ensemble.RandomForestRegressor(n_estimators=n_trees, random_state=42)\n",
    "    aucs = ms.cross_val_score(estimator, X, y, scoring='neg_mean_squared_error', cv=cv)\n",
    "    print('{:>3} trees: mean mses {:.2}'.format(n_trees, np.mean(mses)))"
   ]
  },
  {
   "cell_type": "code",
   "execution_count": 80,
   "metadata": {},
   "outputs": [
    {
     "data": {
      "text/plain": [
       "8.619934701492538"
      ]
     },
     "execution_count": 80,
     "metadata": {},
     "output_type": "execute_result"
    }
   ],
   "source": [
    "sklearn.metrics.mean_squared_error(y_test, rf1.predict(X_test))"
   ]
  },
  {
   "cell_type": "code",
   "execution_count": 81,
   "metadata": {},
   "outputs": [
    {
     "data": {
      "text/plain": [
       "GradientBoostingRegressor(alpha=0.9, criterion='friedman_mse', init=None,\n",
       "             learning_rate=0.1, loss='ls', max_depth=3, max_features=None,\n",
       "             max_leaf_nodes=None, min_impurity_decrease=0.0,\n",
       "             min_impurity_split=None, min_samples_leaf=1,\n",
       "             min_samples_split=2, min_weight_fraction_leaf=0.0,\n",
       "             n_estimators=20, n_iter_no_change=None, presort='auto',\n",
       "             random_state=42, subsample=1.0, tol=0.0001,\n",
       "             validation_fraction=0.1, verbose=0, warm_start=False)"
      ]
     },
     "execution_count": 81,
     "metadata": {},
     "output_type": "execute_result"
    }
   ],
   "source": [
    "gbt1 = ensemble.GradientBoostingRegressor(n_estimators=20, random_state=42)\n",
    "gbt1.fit(X_train, y_train)"
   ]
  },
  {
   "cell_type": "code",
   "execution_count": 85,
   "metadata": {},
   "outputs": [
    {
     "data": {
      "text/plain": [
       "10.908231434573095"
      ]
     },
     "execution_count": 85,
     "metadata": {},
     "output_type": "execute_result"
    }
   ],
   "source": [
    "sklearn.metrics.mean_squared_error(y_test, gbt1.predict(X_test))"
   ]
  },
  {
   "cell_type": "code",
   "execution_count": 86,
   "metadata": {},
   "outputs": [
    {
     "data": {
      "text/plain": [
       "array([0.02487661, 0.        , 0.        , 0.00472473, 0.00968452,\n",
       "       0.31653344, 0.00655149, 0.10365855, 0.        , 0.00870953,\n",
       "       0.00869065, 0.00161927, 0.51495123])"
      ]
     },
     "execution_count": 86,
     "metadata": {},
     "output_type": "execute_result"
    }
   ],
   "source": [
    "gbt1.feature_importances_"
   ]
  },
  {
   "cell_type": "code",
   "execution_count": 87,
   "metadata": {},
   "outputs": [
    {
     "data": {
      "text/plain": [
       "[('crim', 0.024876608243593654),\n",
       " ('zn', 0.0),\n",
       " ('indus', 0.0),\n",
       " ('chas', 0.0047247265939148525),\n",
       " ('nox', 0.00968452152851787),\n",
       " ('rm', 0.31653344188420435),\n",
       " ('age', 0.0065514852640180055),\n",
       " ('dis', 0.10365854783367912),\n",
       " ('rad', 0.0),\n",
       " ('tax', 0.008709526636295106),\n",
       " ('ptratio', 0.008690646096897988),\n",
       " ('black', 0.0016192690383395464),\n",
       " ('lstat', 0.5149512268805395)]"
      ]
     },
     "execution_count": 87,
     "metadata": {},
     "output_type": "execute_result"
    }
   ],
   "source": [
    "list(zip(X_test.columns, gbt1.feature_importances_))"
   ]
  },
  {
   "cell_type": "code",
   "execution_count": null,
   "metadata": {},
   "outputs": [],
   "source": []
  }
 ],
 "metadata": {
  "kernelspec": {
   "display_name": "Python 3",
   "language": "python",
   "name": "python3"
  },
  "language_info": {
   "codemirror_mode": {
    "name": "ipython",
    "version": 3
   },
   "file_extension": ".py",
   "mimetype": "text/x-python",
   "name": "python",
   "nbconvert_exporter": "python",
   "pygments_lexer": "ipython3",
   "version": "3.7.1"
  }
 },
 "nbformat": 4,
 "nbformat_minor": 2
}
